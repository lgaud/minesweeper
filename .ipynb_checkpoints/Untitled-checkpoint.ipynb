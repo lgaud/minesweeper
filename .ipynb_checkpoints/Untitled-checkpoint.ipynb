{
 "cells": [
  {
   "cell_type": "code",
   "execution_count": 16,
   "metadata": {
    "collapsed": true
   },
   "outputs": [],
   "source": [
    " def create_grid(mines, x_cells, y_cells):\n",
    "        grid = [[0 for x in range(x_cells)] for y in range(y_cells)]\n",
    "        y_max = y_cells\n",
    "        x_max = x_cells\n",
    "        \n",
    "        for m in mines:\n",
    "            x = m[0]\n",
    "            y = m[1]\n",
    "            \n",
    "            print(x)\n",
    "            print(y)\n",
    "            # increment count in surrounding cells\n",
    "            # x-1\n",
    "            if x > 0:\n",
    "                if y > 0:\n",
    "                    grid[x-1][y-1] += 1\n",
    "                if y + 1 < y_max:\n",
    "                    grid[x-1][y+1] += 1\n",
    "                grid[x-1][y] += 1\n",
    "            #x\n",
    "            if y > 0:\n",
    "                grid[x][y-1] += 1\n",
    "            if y + 1 < y_max:\n",
    "                grid[x][y+1] += 1\n",
    "            \n",
    "            #x + 1\n",
    "            if x + 1 < x_max:\n",
    "                if y > 0:\n",
    "                    grid[x+1][y-1] += 1\n",
    "                if y + 1 < y_max:\n",
    "                    grid[x+1][y+1] += 1\n",
    "                grid[x+1][y] += 1\n",
    "               \n",
    "        return grid"
   ]
  },
  {
   "cell_type": "code",
   "execution_count": 17,
   "metadata": {
    "collapsed": false
   },
   "outputs": [
    {
     "name": "stdout",
     "output_type": "stream",
     "text": [
      "0\n",
      "0\n",
      "[[0, 1], [1, 1]]\n"
     ]
    }
   ],
   "source": [
    "g = create_grid([(0,0)],2, 2)\n",
    "print(g)"
   ]
  },
  {
   "cell_type": "code",
   "execution_count": 15,
   "metadata": {
    "collapsed": true
   },
   "outputs": [],
   "source": [
    "x = 0\n",
    "x+= x"
   ]
  },
  {
   "cell_type": "code",
   "execution_count": null,
   "metadata": {
    "collapsed": true
   },
   "outputs": [],
   "source": []
  }
 ],
 "metadata": {
  "kernelspec": {
   "display_name": "Python 3",
   "language": "python",
   "name": "python3"
  },
  "language_info": {
   "codemirror_mode": {
    "name": "ipython",
    "version": 3
   },
   "file_extension": ".py",
   "mimetype": "text/x-python",
   "name": "python",
   "nbconvert_exporter": "python",
   "pygments_lexer": "ipython3",
   "version": "3.5.0"
  }
 },
 "nbformat": 4,
 "nbformat_minor": 0
}
